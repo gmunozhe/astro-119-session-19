{
 "cells": [
  {
   "cell_type": "code",
   "execution_count": null,
   "metadata": {},
   "outputs": [],
   "source": [
    "%matplotlib inline\n",
    "import matplotlib.pyplot as plt\n",
    "import numpy as np\n"
   ]
  },
  {
   "cell_type": "markdown",
   "metadata": {},
   "source": [
    "### Set up a series of random uniform distributions\n",
    "The central lim theorem states that for random processes, if we measure the mean of independent random variates the distribution of the means of those distributions will be Gaussianly distributed."
   ]
  },
  {
   "cell_type": "code",
   "execution_count": null,
   "metadata": {},
   "outputs": [],
   "source": [
    "n_exp = 10000 # number of experiments\n",
    "n_draw = 10 #number of random variates per experiement\n",
    "n_bins = 100 # number of bins in histogram of the uniform variate means\n",
    "x_min = 0.15 #min of histogram range\n",
    "x_max = 0.85 #max of hist range \n",
    "\n",
    "means = np.zeros(n_exp)  #mean from each experiment"
   ]
  },
  {
   "cell_type": "markdown",
   "metadata": {},
   "source": [
    "### Perform the experiment"
   ]
  },
  {
   "cell_type": "code",
   "execution_count": null,
   "metadata": {},
   "outputs": [],
   "source": [
    "#loop over the number of experiments\n",
    "for i in range(n_exp):\n",
    "    \n",
    "    #pull 10 random variates from a uniform distribution\n",
    "    z= np.random.uniform(0.,1.,n_draw)\n",
    "    \n",
    "    #record the mean\n",
    "    means[i] = np.mean(z)"
   ]
  },
  {
   "cell_type": "markdown",
   "metadata": {},
   "source": [
    "### Def a function to plot a Gaussian"
   ]
  },
  {
   "cell_type": "code",
   "execution_count": null,
   "metadata": {},
   "outputs": [],
   "source": [
    "def gaussian(x, mu, sigma):\n",
    "    return 1./(2.0*np.pi*sigma**2)**0.5 * np.exp(-0.5*((x-mu)/sigma)**2)"
   ]
  },
  {
   "cell_type": "markdown",
   "metadata": {},
   "source": [
    "### Now lets histogram the means and plot them"
   ]
  },
  {
   "cell_type": "code",
   "execution_count": null,
   "metadata": {},
   "outputs": [],
   "source": [
    "fig = plt.figure(figsize=(7,7))\n",
    "y_hist, x_hist, ignored = plt.hist(means, bins= n_bins, range=[x_min, x_max], density=True)\n",
    "xx= np.linspace(x_min, x_max, 1000)\n",
    "\n",
    "#set the RMS of the gaussian\n",
    "sigma= 1./12.**0.5 / 10.**0.5\n",
    "\n",
    "plt.plot (xx, gaussian(xx, 0.5, sigma), color = \"red\")\n",
    "plt.ylim([0, 1.1*gaussian(0.5, 0.5, sigma)])\n",
    "plt.xlim([x_min, x_max])\n",
    "\n",
    "#plt.gca().set_aspect(20)\n",
    "plt.xlabel('x')\n",
    "plt.ylabel('y(x)')\n",
    "plt.show()"
   ]
  },
  {
   "cell_type": "code",
   "execution_count": null,
   "metadata": {},
   "outputs": [],
   "source": []
  }
 ],
 "metadata": {
  "kernelspec": {
   "display_name": "Python 3",
   "language": "python",
   "name": "python3"
  },
  "language_info": {
   "codemirror_mode": {
    "name": "ipython",
    "version": 3
   },
   "file_extension": ".py",
   "mimetype": "text/x-python",
   "name": "python",
   "nbconvert_exporter": "python",
   "pygments_lexer": "ipython3",
   "version": "3.6.5"
  }
 },
 "nbformat": 4,
 "nbformat_minor": 2
}
